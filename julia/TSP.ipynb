{
 "cells": [
  {
   "cell_type": "code",
   "execution_count": null,
   "metadata": {},
   "outputs": [],
   "source": [
    "include(\"setup.jl\")"
   ]
  },
  {
   "cell_type": "markdown",
   "metadata": {},
   "source": [
    "# Asymmetric Travelling Salesman Problem\n",
    "\n",
    "**Originally Contributed by**: Mathieu Tanneau and Alexis Montoison\n",
    "\n",
    "https://www.movable-type.co.uk/scripts/latlong.html\n",
    "### Problem description\n",
    "\n",
    "$$\n",
    "    \\begin{array}{cl}\n",
    "        \\min_{x} \\ \\ \\ &\n",
    "            \\sum_{i, j} d_{i, j} x_{i, j}\\\\\n",
    "        s.t. &\n",
    "            \\sum_{j} x_{i, j} = 1, \\ \\ \\ \\forall i \\in \\Omega\\\\\n",
    "        &    \\sum_{i} x_{i, j} = 1, \\ \\ \\ \\forall j \\in \\Omega\\\\\n",
    "        &    x_{k,k} = 0 \\ \\ \\ \\forall k \\in \\Omega\\\\\n",
    "        &   \\sum_{i} \\sum_{j \\ne i} x_{i,j} \\le |S| - 1, \\forall S \\subset \\Omega, 2 \\le |S| \\le N-1\\\\\n",
    "        &   x_{i, j} \\in \\{0, 1\\}, \\ \\ \\ \\forall (i,j) \\in \\Omega^2 , i \\ne j\\\\\n",
    "        & \\Omega = \\{1, \\dots, N\\}\n",
    "    \\end{array}\n",
    "$$"
   ]
  },
  {
   "cell_type": "code",
   "execution_count": null,
   "metadata": {},
   "outputs": [],
   "source": [
    "d = readdlm(\"./tsp/distances_quebec.txt\")"
   ]
  },
  {
   "cell_type": "code",
   "execution_count": null,
   "metadata": {},
   "outputs": [],
   "source": [
    "c = readdlm(\"./tsp/cities_quebec.txt\")"
   ]
  },
  {
   "cell_type": "code",
   "execution_count": null,
   "metadata": {},
   "outputs": [],
   "source": [
    "\"\"\"\n",
    "    all_subsets(x)\n",
    "\n",
    "Compute all subsets of elements of vector `x`.\n",
    "\"\"\"\n",
    "function all_subsets(x::Vector{T}) where T\n",
    "    res = Vector{T}[[]]  # Vector of vectors\n",
    "    for elem in x, j in eachindex(res)\n",
    "        push!(res, [res[j] ; elem])\n",
    "    end\n",
    "    return res\n",
    "end"
   ]
  },
  {
   "cell_type": "code",
   "execution_count": null,
   "metadata": {
    "scrolled": true
   },
   "outputs": [],
   "source": [
    "all_subsets([1:5;])"
   ]
  },
  {
   "cell_type": "code",
   "execution_count": null,
   "metadata": {},
   "outputs": [],
   "source": [
    "\"\"\"\n",
    "    solve_tsp(D, optimizer)\n",
    "\n",
    "Compute a shortest TSP tour given then matrix distance `D`.\n",
    "\"\"\"\n",
    "function solve_tsp(D, optimizer)\n",
    "    # Number of cities\n",
    "    N = size(D, 1)\n",
    "    N == size(D, 2) || throw(DimensionMismatch())                     # sanity check: `D` is square\n",
    "    N <= 16 || error(\"N cannot be larger than 16 for memory safety\")  # sanity check: `N` is not too large\n",
    "    \n",
    "    # Instantiate a model\n",
    "    mip = Model(with_optimizer(optimizer))\n",
    "\n",
    "    # I. Create arc variables\n",
    "    @variable(mip, X[1:N, 1:N], Bin)\n",
    "\n",
    "    # II. Set objective\n",
    "    @objective(mip, Min, sum(X.*D)) # sum(D[i,j] * X[i,j] for i=1:N, j=1:N)\n",
    "\n",
    "    # III. Add constraints to the model\n",
    "    \n",
    "    # III.1 \n",
    "    # No city can be its own follower in the tour\n",
    "    for k in 1:N\n",
    "        @constraint(mip, X[k,k] == 0.0)\n",
    "    end\n",
    "\n",
    "    # III.2\n",
    "    # Each city has one predecessor and one successor\n",
    "    for i in 1:N\n",
    "        @constraint(mip, sum(X[i, j] for j in 1:N) == 1.0)\n",
    "        @constraint(mip, sum(X[j, i] for j in 1:N) == 1.0)\n",
    "    end\n",
    "    \n",
    "    # III.3\n",
    "    # We only want a cycle of length N\n",
    "    tours = all_subsets([1:N;])\n",
    "    for st in tours\n",
    "        T = length(st)\n",
    "        # Sub-tour elimination constraints\n",
    "        if 2 ≤ T ≤ N-1\n",
    "            @constraint(mip, sum(X[st[k],st[k+1]] for k=1:T-1) + X[st[T],st[1]] ≤ T-1)\n",
    "            @constraint(mip, sum(X[st[k+1],st[k]] for k=1:T-1) + X[st[1],st[T]] ≤ T-1)\n",
    "        end\n",
    "    end\n",
    "    \n",
    "    # Solve MIP model\n",
    "    optimize!(mip)\n",
    "    \n",
    "    println(\"Optimal tour length is \", objective_value(mip))\n",
    "\n",
    "    # Return solution\n",
    "    return value.(X)\n",
    "end"
   ]
  },
  {
   "cell_type": "code",
   "execution_count": null,
   "metadata": {},
   "outputs": [],
   "source": [
    "solve_tsp(d, Cbc.Optimizer)"
   ]
  },
  {
   "cell_type": "code",
   "execution_count": null,
   "metadata": {},
   "outputs": [],
   "source": [
    "sol = solve_tsp(d, GLPK.Optimizer)"
   ]
  },
  {
   "cell_type": "code",
   "execution_count": null,
   "metadata": {},
   "outputs": [],
   "source": [
    "include(\"tsp/RoadTrip.jl\")"
   ]
  },
  {
   "cell_type": "code",
   "execution_count": null,
   "metadata": {},
   "outputs": [],
   "source": [
    "RoadTrip(9, c, sol)"
   ]
  },
  {
   "cell_type": "markdown",
   "metadata": {},
   "source": [
    "![](tsp/solution_quebec.png)"
   ]
  }
 ],
 "metadata": {
  "@webio": {
   "lastCommId": null,
   "lastKernelId": null
  },
  "celltoolbar": "Aucun(e)",
  "kernelspec": {
   "display_name": "Julia 1.1.1",
   "language": "julia",
   "name": "julia-1.1"
  },
  "language_info": {
   "file_extension": ".jl",
   "mimetype": "application/julia",
   "name": "julia",
   "version": "1.1.1"
  }
 },
 "nbformat": 4,
 "nbformat_minor": 2
}
