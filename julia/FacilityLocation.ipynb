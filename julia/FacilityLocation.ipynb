{
 "cells": [
  {
   "cell_type": "code",
   "execution_count": null,
   "metadata": {},
   "outputs": [],
   "source": [
    "include(\"setup.jl\")"
   ]
  },
  {
   "cell_type": "markdown",
   "metadata": {},
   "source": [
    "# Facility location problem\n",
    "\n",
    "**Originally Contributed by**: Mathieu Tanneau and Alexis Montoison\n",
    "\n",
    "Benchmark instances: http://resources.mpi-inf.mpg.de/departments/d1/projects/benchmarks/UflLib/\n",
    "\n",
    "## Uncapacitated facility location\n",
    "\n",
    "### Problem description\n",
    "\n",
    "* $M=\\{1, \\dots, m\\}$ clients, $N=\\{ 1, \\dots, n\\}$ sites where a facility can be built."
   ]
  },
  {
   "cell_type": "code",
   "execution_count": null,
   "metadata": {},
   "outputs": [],
   "source": [
    "n = 2  # number of facility locations\n",
    "m = 5  # number of clients"
   ]
  },
  {
   "cell_type": "markdown",
   "metadata": {},
   "source": [
    "* $f_j$: fixed cost of building a facility at site $j$\n",
    "* $c_{i, j}$: cost for serving customer $i$ from facility $j$"
   ]
  },
  {
   "cell_type": "code",
   "execution_count": null,
   "metadata": {},
   "outputs": [],
   "source": [
    "# Draw costs\n",
    "Random.seed!(0)\n",
    "f = rand(1000:10000, n);\n",
    "c = rand(0:1000, m, n);"
   ]
  },
  {
   "cell_type": "markdown",
   "metadata": {},
   "source": [
    "### MILP formulation\n",
    "\n",
    "$$\n",
    "    \\begin{array}{cl}\n",
    "        \\min_{x, y} \\ \\ \\ &\n",
    "            \\sum_{i, j} c_{i, j} x_{i, j} + \n",
    "            \\sum_{j} f_{j} y_{j}\\\\\n",
    "        s.t. &\n",
    "            \\sum_{j} x_{i, j} = 1, \\ \\ \\ \\forall i \\in M\\\\\n",
    "        &   x_{i, j} \\leq y_{j}, \\ \\ \\ \\forall i \\in M, j \\in N\\\\\n",
    "        &   x_{i, j}, y_{j} \\in \\{0, 1\\}, \\ \\ \\ \\forall i \\in M, j \\in N\n",
    "    \\end{array}\n",
    "$$"
   ]
  },
  {
   "cell_type": "code",
   "execution_count": null,
   "metadata": {},
   "outputs": [],
   "source": [
    "model = Model();"
   ]
  },
  {
   "cell_type": "code",
   "execution_count": null,
   "metadata": {},
   "outputs": [],
   "source": [
    "# Create y variables\n",
    "@variable(model, y[1:m], Bin);\n",
    "@variable(model, x[1:m, 1:n], Bin);"
   ]
  },
  {
   "cell_type": "code",
   "execution_count": null,
   "metadata": {},
   "outputs": [],
   "source": [
    "# set objective\n",
    "F = sum([f[j]*y[j] for j in 1:n])\n",
    "C = sum([c[i, j]*x[i, j] for i in 1:m for j in 1:n])\n",
    "                \n",
    "@objective(model, Min, F + C);"
   ]
  },
  {
   "cell_type": "code",
   "execution_count": null,
   "metadata": {},
   "outputs": [],
   "source": [
    "# Add constraints\n",
    "\n",
    "# Each client is serve exactly once\n",
    "@constraint(\n",
    "    model,\n",
    "    [i in 1:m],\n",
    "    sum(x[i, j] for j in 1:n) == 1\n",
    ")\n",
    "\n",
    "# Fixed cost of opening facilities\n",
    "@constraint(\n",
    "    model,\n",
    "    [i in 1:m, j in 1:n],\n",
    "    x[i, j] <= y[j]\n",
    ");"
   ]
  },
  {
   "cell_type": "code",
   "execution_count": null,
   "metadata": {},
   "outputs": [],
   "source": [
    "# Set optimizer\n",
    "set_optimizer(model, with_optimizer(GLPK.Optimizer))"
   ]
  },
  {
   "cell_type": "code",
   "execution_count": null,
   "metadata": {},
   "outputs": [],
   "source": [
    "optimize!(model)\n",
    "println(\"Optimal value: \", objective_value(model))"
   ]
  },
  {
   "cell_type": "code",
   "execution_count": null,
   "metadata": {},
   "outputs": [],
   "source": [
    "# Get y and x solutions\n",
    "ysol = value.(y);\n",
    "println(\"Optimal solution y: \", value.(y))\n",
    "xsol = value.(x);\n",
    "println(\"Optimal solution x: \", value.(x))"
   ]
  },
  {
   "cell_type": "code",
   "execution_count": null,
   "metadata": {},
   "outputs": [],
   "source": [
    "# relax all binary variables\n",
    "for var in x\n",
    "    is_binary(var) && unset_binary(var)\n",
    "    set_lower_bound(var, 0.0)\n",
    "    set_upper_bound(var, 1.0)\n",
    "end\n",
    "\n",
    "for var in y\n",
    "    is_binary(var) && unset_binary(var)\n",
    "    set_lower_bound(var, 0.0)\n",
    "    set_upper_bound(var, 1.0)\n",
    "end\n",
    "\n",
    "# Solve the LP relaxation\n",
    "optimize!(model)\n",
    "lp_val = objective_value(model)\n",
    "println(\"Optimal value of relaxed model: \", lp_val)"
   ]
  },
  {
   "cell_type": "code",
   "execution_count": null,
   "metadata": {},
   "outputs": [],
   "source": [
    "# Get y and x solutions\n",
    "lp_ysol = value.(y);\n",
    "println(\"Optimal solution y: \", value.(y))\n",
    "lp_xsol = value.(x);\n",
    "println(\"Optimal solution x: \", value.(x))"
   ]
  },
  {
   "cell_type": "code",
   "execution_count": null,
   "metadata": {},
   "outputs": [],
   "source": [
    "# set all variables to be binary\n",
    "for var in x\n",
    "    set_binary(var)\n",
    "end\n",
    "\n",
    "for var in y\n",
    "    set_binary(var)\n",
    "end\n",
    "\n",
    "optimize!(model)\n",
    "mip_val = objective_value(model)\n",
    "println(\"Optimal value of integer model: \", mip_val)"
   ]
  },
  {
   "cell_type": "code",
   "execution_count": null,
   "metadata": {},
   "outputs": [],
   "source": [
    "(mip_val - lp_val) / mip_val  # integrality gap"
   ]
  },
  {
   "cell_type": "markdown",
   "metadata": {},
   "source": [
    "## Capacitated Facility location\n",
    "\n",
    "* Each client $i$ has a demand $a_{i}$, and each facility has a capacity $q_{j}$"
   ]
  },
  {
   "cell_type": "markdown",
   "metadata": {},
   "source": [
    "$$\n",
    "    \\begin{array}{cl}\n",
    "        \\min_{x, y} \\ \\ \\ &\n",
    "            \\sum_{i, j} c_{i, j} x_{i, j} + \n",
    "            \\sum_{j} f_{j} y_{j}\\\\\n",
    "        s.t. &\n",
    "            \\sum_{j} x_{i, j} = 1, \\ \\ \\ \\forall i \\in M\\\\\n",
    "        &   \\sum_{i} a_{i} x_{i, j} \\leq q_{j} y_{j}, \\ \\ \\ \\forall j \\in N\\\\\n",
    "        &   x_{i, j}, y_{j} \\in \\{0, 1\\}, \\ \\ \\ \\forall i \\in M, j \\in N\n",
    "    \\end{array}\n",
    "$$"
   ]
  },
  {
   "cell_type": "code",
   "execution_count": null,
   "metadata": {},
   "outputs": [],
   "source": [
    "n = 10  # number of facility locations\n",
    "m = 30  # number of clients\n",
    "\n",
    "# Draw costs\n",
    "Random.seed!(0)\n",
    "f = rand(1000:10000, n);\n",
    "c = rand(0:1000, m, n);\n",
    "\n",
    "# Clients' demands\n",
    "a = rand(1:10, m);\n",
    "\n",
    "# Capacities\n",
    "q = rand(30:40, n);"
   ]
  },
  {
   "cell_type": "code",
   "execution_count": null,
   "metadata": {},
   "outputs": [],
   "source": [
    "# Instantiate an empty model\n",
    "model_cap = Model();"
   ]
  },
  {
   "cell_type": "code",
   "execution_count": null,
   "metadata": {},
   "outputs": [],
   "source": [
    "# Create variables\n",
    "y = @variable(model_cap, y[1:n], Bin);\n",
    "x = @variable(model_cap, x[1:m, 1:n], Bin);"
   ]
  },
  {
   "cell_type": "code",
   "execution_count": null,
   "metadata": {},
   "outputs": [],
   "source": [
    "# set objective\n",
    "C = sum([c[i, j]*x[i, j] for i in 1:m for j in 1:n])  # demand serving cost\n",
    "F = sum([f[j]*y[j] for j in 1:n])  # fixed cost\n",
    "\n",
    "@objective(model_cap, Min, C + F);"
   ]
  },
  {
   "cell_type": "code",
   "execution_count": null,
   "metadata": {},
   "outputs": [],
   "source": [
    "# Add constraints\n",
    "\n",
    "# Each client is serve exactly once\n",
    "ctr_ = @constraint(\n",
    "    model_cap,                       # add constraints to model\n",
    "    [i in 1:m],                      # there are `m` constraints, indexed by `i`\n",
    "    sum(x[i, j] for j in 1:n) == 1   # the actual constraint\n",
    ")\n",
    "\n",
    "# Capacity constraints\n",
    "ctr_capacity = @constraint(\n",
    "    model_cap,\n",
    "    [j in 1:n],\n",
    "    sum(a[i] * x[i, j] for i in 1:m) <= q[j]*y[j]\n",
    ");\n",
    "\n",
    "# Tighten LP relaxation\n",
    "ctr_opening = @constraint(\n",
    "    model_cap,\n",
    "    [i in 1:m, j in 1:n],\n",
    "    x[i, j] <= y[j]\n",
    ");"
   ]
  },
  {
   "cell_type": "code",
   "execution_count": null,
   "metadata": {},
   "outputs": [],
   "source": [
    "# Set optimizer\n",
    "set_optimizer(\n",
    "    model_cap,\n",
    "    with_optimizer(\n",
    "        GLPK.Optimizer,\n",
    "        msg_lev=3,    # verbosity level\n",
    "        tm_lim=10000  # time limit, in ms\n",
    "    )\n",
    ")"
   ]
  },
  {
   "cell_type": "code",
   "execution_count": null,
   "metadata": {},
   "outputs": [],
   "source": [
    "# Best solution found so far\n",
    "println(\"Optimal value: \", objective_value(model_cap))"
   ]
  },
  {
   "cell_type": "code",
   "execution_count": null,
   "metadata": {},
   "outputs": [],
   "source": [
    "# try with Cbc\n",
    "set_optimizer(model_cap, with_optimizer(Cbc.Optimizer))\n",
    "optimize!(model_cap)"
   ]
  }
 ],
 "metadata": {
  "@webio": {
   "lastCommId": null,
   "lastKernelId": null
  },
  "kernelspec": {
   "display_name": "Julia 1.1.1",
   "language": "julia",
   "name": "julia-1.1"
  },
  "language_info": {
   "file_extension": ".jl",
   "mimetype": "application/julia",
   "name": "julia",
   "version": "1.1.1"
  }
 },
 "nbformat": 4,
 "nbformat_minor": 2
}
