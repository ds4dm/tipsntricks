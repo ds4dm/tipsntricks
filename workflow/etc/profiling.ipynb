{
 "cells": [
  {
   "cell_type": "code",
   "execution_count": 1,
   "metadata": {
    "collapsed": true
   },
   "outputs": [],
   "source": [
    "using Profile\n",
    "using ProfileView"
   ]
  },
  {
   "cell_type": "markdown",
   "metadata": {},
   "source": [
    "# Source code"
   ]
  },
  {
   "cell_type": "code",
   "execution_count": 2,
   "metadata": {},
   "outputs": [
    {
     "data": {
      "text/plain": [
       "h2 (generic function with 1 method)"
      ]
     },
     "execution_count": 2,
     "metadata": {},
     "output_type": "execute_result"
    }
   ],
   "source": [
    "include(\"profile_code.jl\")"
   ]
  },
  {
   "cell_type": "code",
   "execution_count": 3,
   "metadata": {},
   "outputs": [
    {
     "name": "stdout",
     "output_type": "stream",
     "text": [
      "100 iterations\n",
      "  1.448743 seconds (186.12 k allocations: 9.475 MiB)\n"
     ]
    },
    {
     "data": {
      "text/plain": [
       "0"
      ]
     },
     "execution_count": 3,
     "metadata": {},
     "output_type": "execute_result"
    }
   ],
   "source": [
    "@time h1()"
   ]
  },
  {
   "cell_type": "code",
   "execution_count": 4,
   "metadata": {},
   "outputs": [
    {
     "name": "stdout",
     "output_type": "stream",
     "text": [
      "20 iterations\n",
      "  1.160337 seconds (19.02 k allocations: 957.673 KiB)\n"
     ]
    },
    {
     "data": {
      "text/plain": [
       "0"
      ]
     },
     "execution_count": 4,
     "metadata": {},
     "output_type": "execute_result"
    }
   ],
   "source": [
    "@time h2()"
   ]
  },
  {
   "cell_type": "markdown",
   "metadata": {},
   "source": [
    "# Profiling"
   ]
  },
  {
   "cell_type": "code",
   "execution_count": 5,
   "metadata": {},
   "outputs": [
    {
     "name": "stdout",
     "output_type": "stream",
     "text": [
      "100 iterations\n",
      "  1.300648 seconds (1.06 k allocations: 41.984 KiB)\n"
     ]
    },
    {
     "data": {
      "text/plain": [
       "0"
      ]
     },
     "execution_count": 5,
     "metadata": {},
     "output_type": "execute_result"
    }
   ],
   "source": [
    "Profile.clear()\n",
    "Profile.init(n=10^7, delay=0.0001)\n",
    "@time @profile h1()"
   ]
  },
  {
   "cell_type": "code",
   "execution_count": 6,
   "metadata": {
    "scrolled": false
   },
   "outputs": [
    {
     "name": "stdout",
     "output_type": "stream",
     "text": [
      " Count File                        Line Function                               \n",
      " 12090 ./In[5]                        3 top-level scope                        \n",
      "     2 ./abstractarray.jl           841 isempty                                \n",
      "     7 ./abstractdict.jl            597 get                                    \n",
      "     6 ./abstractdict.jl            601 getindex                               \n",
      "     2 ./abstractdict.jl            569 rehash!(::IdDict{Any,Any}, ::Int64)    \n",
      "     2 ./abstractdict.jl            587 setindex!                              \n",
      "     3 ./abstractdict.jl            591 setindex!                              \n",
      "     1 ./abstractdict.jl            592 setindex!                              \n",
      "     5 ./array.jl                   814 _growend!                              \n",
      "     1 ./array.jl                   199 length                                 \n",
      "     5 ./array.jl                   862 push!                                  \n",
      "     2 ./array.jl                   129 vect                                   \n",
      "     2 ./boot.jl                    394 Type                                   \n",
      "     2 ./boot.jl                    413 Type                                   \n",
      " 12090 ./boot.jl                    319 eval                                   \n",
      "     2 ./char.jl                    213 print                                  \n",
      "     5 ./coreio.jl                    4 println(::String)                      \n",
      " 12090 ./essentials.jl              697 #invokelatest#1                        \n",
      " 12090 ./essentials.jl              696 invokelatest                           \n",
      "   671 ./event.jl                   469 (::getfield(Base, Symbol(\"##435#436\"...\n",
      "     1 ./event.jl                   470 (::getfield(Base, Symbol(\"##435#436\"...\n",
      "     2 ./event.jl                   350 (::getfield(Base, Symbol(\"##Timer#43...\n",
      "     1 ./event.jl                   360 (::getfield(Base, Symbol(\"##Timer#43...\n",
      "     3 ./event.jl                   362 (::getfield(Base, Symbol(\"##Timer#43...\n",
      "     1 ./event.jl                   363 (::getfield(Base, Symbol(\"##Timer#43...\n",
      "     2 ./event.jl                    62 #notify#426                            \n",
      "     1 ./event.jl                   134 #schedule#427                          \n",
      "     1 ./event.jl                   268 ==                                     \n",
      "     2 ./event.jl                    18 Type                                   \n",
      "    20 ./event.jl                   347 Type                                   \n",
      "     1 ./event.jl                   400 _uv_hook_close(::Timer)                \n",
      "     2 ./event.jl                   401 _uv_hook_close(::Timer)                \n",
      "     1 ./event.jl                    89 enq_work                               \n",
      "     4 ./event.jl                    62 notify                                 \n",
      "     1 ./event.jl                    68 notify(::Condition, ::Nothing, ::Boo...\n",
      "     1 ./event.jl                    71 notify(::Condition, ::EOFError, ::Bo...\n",
      "     2 ./event.jl                    79 notify_error                           \n",
      "     3 ./event.jl                   240 poptask()                              \n",
      "     1 ./event.jl                   129 schedule                               \n",
      " 12081 ./event.jl                   429 sleep                                  \n",
      "     1 ./event.jl                   187 try_yieldto(::typeof(Base.ensure_res...\n",
      "     2 ./event.jl                   412 uv_timercb(::Ptr{Nothing})             \n",
      "     2 ./event.jl                    41 wait(::Condition)                      \n",
      "     5 ./event.jl                    43 wait(::Condition)                      \n",
      "     1 ./event.jl                    45 wait(::Condition)                      \n",
      " 12710 ./event.jl                    46 wait(::Condition)                      \n",
      "     1 ./event.jl                   245 wait()                                 \n",
      " 12666 ./event.jl                   246 wait()                                 \n",
      "     3 ./event.jl                   253 wait()                                 \n",
      "     3 ./event.jl                   255 wait()                                 \n",
      "    37 ./event.jl                   256 wait()                                 \n",
      "     1 ./event.jl                   258 wait()                                 \n",
      " 12732 ./event.jl                   375 wait                                   \n",
      "     1 ./gcutils.jl                  18 finalizer                              \n",
      "     1 ./int.jl                     801 +                                      \n",
      "     1 ./int.jl                     463 rem                                    \n",
      "     3 ./io.jl                      225 macro expansion                        \n",
      "     2 ./io.jl                      507 unsafe_write(::Base.PipeEndpoint, ::...\n",
      "     2 ./io.jl                      509 unsafe_write                           \n",
      "     2 ./io.jl                      224 write                                  \n",
      "     2 ./io.jl                      510 write                                  \n",
      "     2 ./io.jl                      563 write                                  \n",
      "     1 ./libuv.jl                    89 eventloop                              \n",
      "     2 ./libuv.jl                    38 macro expansion                        \n",
      "     1 ./libuv.jl                    52 preserve_handle(::Timer)               \n",
      "     6 ./libuv.jl                    53 preserve_handle(::Timer)               \n",
      " 12666 ./libuv.jl                    98 process_events                         \n",
      "    37 ./libuv.jl                   100 process_events                         \n",
      "     6 ./libuv.jl                    57 unpreserve_handle(::Task)              \n",
      "     3 ./refpointer.jl               82 Type                                   \n",
      "     3 ./refvalue.jl                  8 Type                                   \n",
      "     3 ./refvalue.jl                 10 Type                                   \n",
      "     1 ./stream.jl                   61 eof                                    \n",
      "     7 ./stream.jl                   45 stream_wait(::Timer, ::Condition)      \n",
      " 12718 ./stream.jl                   47 stream_wait(::Timer, ::Condition)      \n",
      "     6 ./stream.jl                   49 stream_wait(::Timer, ::Condition)      \n",
      "     5 ./stream.jl                  834 unsafe_write(::Base.PipeEndpoint, ::...\n",
      "     1 ./stream.jl                  452 uv_alloc_buf(::Ptr{Nothing}, ::UInt6...\n",
      "     2 ./stream.jl                  456 uv_alloc_buf(::Ptr{Nothing}, ::UInt6...\n",
      "     4 ./stream.jl                  786 uv_write(::Base.PipeEndpoint, ::Ptr{...\n",
      "     1 ./stream.jl                  796 uv_write(::Base.PipeEndpoint, ::Ptr{...\n",
      "     1 ./stream.jl                  301 wait_readnb(::Base.PipeEndpoint, ::I...\n",
      "     2 ./stream.jl                  876 write(::Base.PipeEndpoint, ::UInt8)    \n",
      "     5 ./strings/io.jl               42 print(::IJulia.IJuliaStdio{Base.Pipe...\n",
      "     3 ./strings/io.jl              166 print                                  \n",
      "     5 ./strings/io.jl               69 println(::IJulia.IJuliaStdio{Base.Pi...\n",
      "     3 ./strings/io.jl              164 write                                  \n",
      "     1 ./sysimg.jl                   18 getproperty                            \n",
      " 12090 ./task.jl                    259 (::getfield(IJulia, Symbol(\"##12#15\"...\n",
      "     2 ./task.jl                    259 (::getfield(IJulia, Symbol(\"##19#21\"...\n",
      "     1 ./task.jl                     93 current_task                           \n",
      " 12090 ./util.jl                    156 macro expansion                        \n",
      " 12089 .../Profile/src/Profile.jl    25 macro expansion                        \n",
      "     1 .../Profile/src/Profile.jl    27 macro expansion                        \n",
      "     1 .../Profile/src/Profile.jl   282 stop_timer                             \n",
      " 12090 .../0cLgR/src/eventloop.jl     8 eventloop(::ZMQ.Socket)                \n",
      " 12090 .../src/execute_request.jl   224 execute_request(::ZMQ.Socket, ::IJul...\n",
      "     1 ...ulia/0cLgR/src/stdio.jl    91 watch_stream(::Base.PipeEndpoint, ::...\n",
      " 12090 .../src/SoftGlobalScope.jl   206 softscope_include_string(::Module, :...\n",
      " 10135 ...ion/etc/profile_code.jl     3 f1                                     \n",
      "  1947 ...ion/etc/profile_code.jl    12 g1                                     \n",
      " 10135 ...ion/etc/profile_code.jl    21 h1()                                   \n",
      "  1947 ...ion/etc/profile_code.jl    22 h1()                                   \n",
      "     5 ...ion/etc/profile_code.jl    24 h1()                                   \n",
      "     1 ...-1.0.1/lib/julia/sys.so    -1 unpreserve_handle(::Timer)             \n"
     ]
    }
   ],
   "source": [
    "Profile.print(format=:flat)"
   ]
  },
  {
   "cell_type": "code",
   "execution_count": 7,
   "metadata": {},
   "outputs": [
    {
     "name": "stdout",
     "output_type": "stream",
     "text": [
      "20 iterations\n",
      "  1.142898 seconds (249 allocations: 9.156 KiB)\n"
     ]
    },
    {
     "data": {
      "text/plain": [
       "0"
      ]
     },
     "execution_count": 7,
     "metadata": {},
     "output_type": "execute_result"
    }
   ],
   "source": [
    "Profile.clear()\n",
    "Profile.init(n=10^7, delay=0.0001)\n",
    "@time @profile h2()"
   ]
  },
  {
   "cell_type": "code",
   "execution_count": 8,
   "metadata": {},
   "outputs": [
    {
     "name": "stdout",
     "output_type": "stream",
     "text": [
      " Count File                        Line Function                               \n",
      "  9162 ./In[7]                        3 top-level scope                        \n",
      "     3 ./abstractarray.jl           841 isempty                                \n",
      "     6 ./abstractdict.jl            597 get                                    \n",
      "     4 ./abstractdict.jl            601 getindex                               \n",
      "     1 ./abstractdict.jl            612 pop!                                   \n",
      "     1 ./abstractdict.jl            619 pop!                                   \n",
      "     1 ./abstractdict.jl            591 setindex!                              \n",
      "     2 ./array.jl                   814 _growend!                              \n",
      "     2 ./array.jl                   199 length                                 \n",
      "     1 ./array.jl                   856 push!                                  \n",
      "     1 ./array.jl                   862 push!                                  \n",
      "     1 ./array.jl                   814 resize!                                \n",
      "     3 ./array.jl                   129 vect                                   \n",
      "     3 ./boot.jl                    394 Type                                   \n",
      "     3 ./boot.jl                    413 Type                                   \n",
      "  9162 ./boot.jl                    319 eval                                   \n",
      "     2 ./char.jl                    213 print                                  \n",
      "    10 ./coreio.jl                    4 println(::String)                      \n",
      "     1 ./dict.jl                    477 getindex                               \n",
      "     1 ./dict.jl                    290 ht_keyindex(::Dict{String,Base.Gener...\n",
      "  9162 ./essentials.jl              697 #invokelatest#1                        \n",
      "  9162 ./essentials.jl              696 invokelatest                           \n",
      "  1671 ./event.jl                   469 (::getfield(Base, Symbol(\"##435#436\"...\n",
      "     2 ./event.jl                   475 (::getfield(Base, Symbol(\"##435#436\"...\n",
      "     3 ./event.jl                   350 (::getfield(Base, Symbol(\"##Timer#43...\n",
      "     5 ./event.jl                    62 #notify#426                            \n",
      "     1 ./event.jl                   134 #schedule#427                          \n",
      "     3 ./event.jl                    18 Type                                   \n",
      "     4 ./event.jl                   347 Type                                   \n",
      "     1 ./event.jl                    90 enq_work                               \n",
      "    10 ./event.jl                    62 notify                                 \n",
      "     1 ./event.jl                    68 notify(::Condition, ::Nothing, ::Boo...\n",
      "     3 ./event.jl                    71 notify(::Condition, ::Nothing, ::Boo...\n",
      "     2 ./event.jl                   229 poptask()                              \n",
      "     1 ./event.jl                   237 poptask()                              \n",
      "     1 ./event.jl                   129 schedule                               \n",
      "  9153 ./event.jl                   429 sleep                                  \n",
      "     4 ./event.jl                   187 try_yieldto(::typeof(Base.ensure_res...\n",
      "     5 ./event.jl                   412 uv_timercb(::Ptr{Nothing})             \n",
      "     1 ./event.jl                    43 wait(::Condition)                      \n",
      " 10810 ./event.jl                    46 wait(::Condition)                      \n",
      "     1 ./event.jl                   245 wait()                                 \n",
      " 10779 ./event.jl                   246 wait()                                 \n",
      "     2 ./event.jl                   253 wait()                                 \n",
      "     5 ./event.jl                   255 wait()                                 \n",
      "    26 ./event.jl                   256 wait()                                 \n",
      " 10820 ./event.jl                   375 wait                                   \n",
      "     1 ./gcutils.jl                  87 macro expansion                        \n",
      "     1 ./int.jl                      52 -                                      \n",
      "     7 ./io.jl                      225 macro expansion                        \n",
      "     2 ./io.jl                      507 unsafe_write(::Base.PipeEndpoint, ::...\n",
      "     3 ./io.jl                      509 unsafe_write                           \n",
      "     2 ./io.jl                      224 write                                  \n",
      "     2 ./io.jl                      510 write                                  \n",
      "     1 ./io.jl                      532 write                                  \n",
      "     2 ./io.jl                      563 write                                  \n",
      "     1 ./iobuffer.jl                313 ensureroom(::Base.GenericIOBuffer{Ar...\n",
      "     1 ./iobuffer.jl                402 unsafe_write(::Base.GenericIOBuffer{...\n",
      "     5 ./libuv.jl                    38 macro expansion                        \n",
      "     2 ./libuv.jl                    52 preserve_handle(::Timer)               \n",
      "     1 ./libuv.jl                    53 preserve_handle(::Timer)               \n",
      " 10779 ./libuv.jl                    98 process_events                         \n",
      "    26 ./libuv.jl                   100 process_events                         \n",
      "     4 ./libuv.jl                    57 unpreserve_handle(::Timer)             \n",
      "     1 ./libuv.jl                    59 unpreserve_handle(::Timer)             \n",
      "     1 ./libuv.jl                    63 unpreserve_handle(::Task)              \n",
      "     1 ./libuv.jl                    30 uv_req_data                            \n",
      "     1 ./promotion.jl               425 ==                                     \n",
      "     2 ./stream.jl                   61 eof                                    \n",
      "     3 ./stream.jl                   45 stream_wait(::Timer, ::Condition)      \n",
      " 10811 ./stream.jl                   47 stream_wait(::Timer, ::Condition)      \n",
      "     5 ./stream.jl                   49 stream_wait(::Timer, ::Condition)      \n",
      "     9 ./stream.jl                  834 unsafe_write(::Base.PipeEndpoint, ::...\n",
      "     1 ./stream.jl                  452 uv_alloc_buf(::Ptr{Nothing}, ::UInt6...\n",
      "     1 ./stream.jl                  456 uv_alloc_buf(::Ptr{Nothing}, ::UInt6...\n",
      "     1 ./stream.jl                  778 uv_write(::Base.PipeEndpoint, ::Ptr{...\n",
      "     6 ./stream.jl                  786 uv_write(::Base.PipeEndpoint, ::Ptr{...\n",
      "     1 ./stream.jl                  788 uv_write(::Base.PipeEndpoint, ::Ptr{...\n",
      "     1 ./stream.jl                  796 uv_write(::Base.PipeEndpoint, ::Ptr{...\n",
      "     1 ./stream.jl                  810 uv_write_async(::Base.PipeEndpoint, ...\n",
      "     2 ./stream.jl                  301 wait_readnb(::Base.PipeEndpoint, ::I...\n",
      "     2 ./stream.jl                  876 write(::Base.PipeEndpoint, ::UInt8)    \n",
      "     9 ./strings/io.jl               42 print(::IJulia.IJuliaStdio{Base.Pipe...\n",
      "     7 ./strings/io.jl              166 print                                  \n",
      "     9 ./strings/io.jl               69 println(::IJulia.IJuliaStdio{Base.Pi...\n",
      "     7 ./strings/io.jl              164 write                                  \n",
      "     1 ./sysimg.jl                   18 getproperty                            \n",
      "  9161 ./task.jl                    259 (::getfield(IJulia, Symbol(\"##12#15\"...\n",
      "     3 ./task.jl                    259 (::getfield(IJulia, Symbol(\"##19#21\"...\n",
      "  9162 ./util.jl                    156 macro expansion                        \n",
      "  9162 .../Profile/src/Profile.jl    25 macro expansion                        \n",
      "  9162 .../0cLgR/src/eventloop.jl     8 eventloop(::ZMQ.Socket)                \n",
      "  9162 .../src/execute_request.jl   224 execute_request(::ZMQ.Socket, ::IJul...\n",
      "     1 ...ulia/0cLgR/src/stdio.jl   132 send_stderr                            \n",
      "     2 ...ulia/0cLgR/src/stdio.jl   128 send_stdio(::String)                   \n",
      "     1 ...ulia/0cLgR/src/stdio.jl   131 send_stdout                            \n",
      "     2 ...ulia/0cLgR/src/stdio.jl   149 send_stream(::String)                  \n",
      "     2 ...ulia/0cLgR/src/stdio.jl    91 watch_stream(::Base.PipeEndpoint, ::...\n",
      "     1 ...ulia/0cLgR/src/stdio.jl   103 watch_stream(::Base.PipeEndpoint, ::...\n",
      "  9162 .../src/SoftGlobalScope.jl   206 softscope_include_string(::Module, :...\n",
      "  1126 ...ion/etc/profile_code.jl     7 f2                                     \n",
      "  8027 ...ion/etc/profile_code.jl    15 g2                                     \n",
      "  1126 ...ion/etc/profile_code.jl    30 h2()                                   \n",
      "  8027 ...ion/etc/profile_code.jl    31 h2()                                   \n",
      "     9 ...ion/etc/profile_code.jl    33 h2()                                   \n",
      "     1 ...-1.0.1/lib/julia/sys.so    -1 ensure_rescheduled(::Task)             \n"
     ]
    }
   ],
   "source": [
    "Profile.print(format=:flat)"
   ]
  }
 ],
 "metadata": {
  "kernelspec": {
   "display_name": "Julia 1.0.1",
   "language": "julia",
   "name": "julia-1.0"
  },
  "language_info": {
   "file_extension": ".jl",
   "mimetype": "application/julia",
   "name": "julia",
   "version": "1.0.1"
  }
 },
 "nbformat": 4,
 "nbformat_minor": 2
}
