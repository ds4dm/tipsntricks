{
 "cells": [
  {
   "cell_type": "markdown",
   "metadata": {},
   "source": [
    "# Unit testing"
   ]
  },
  {
   "cell_type": "markdown",
   "metadata": {},
   "source": [
    "Source code is (most typically) divided into classes and functions.\n",
    "\n",
    "*Unit testing* consists in testing individual units of code (e.g., a single function) to ensure that each behaves as intended.\n",
    "Note that unit tests define an _expected behaviour_, they do not enforce a specific implementation. Therefore, unit tests can be defined before any line of source code is actually written!"
   ]
  },
  {
   "cell_type": "markdown",
   "metadata": {},
   "source": [
    "## Some remarks\n",
    "\n",
    "[General]\n",
    "* Unit tests can detect unexpected behaviours, but they cannot tell you where you made a mistake (that's still for you to figure out)\n",
    "* **Unit tests also enforce a syntax**. This is very useful to avoid breaking changes later in your project.\n",
    "* **Unit tests can evolve too**: you can (and sometimes, should) modify your tests to reflect changes in the code.\n",
    "* Some useful links:\n",
    "    * [Unit testing in Julia](https://docs.julialang.org/en/stable/stdlib/Test/)\n",
    "    * [Unit testing in Python](https://docs.python.org/3/library/unittest.html)\n",
    "\n",
    "[After you've run the example]\n",
    "* **You can't catch what you don't test**: if we had written the test with `a=2.0`, the test would have passed the second time too. In general, you may want to test (within reason) all scenarios defined in the source code. Here, we may "
   ]
  },
  {
   "cell_type": "markdown",
   "metadata": {
    "slideshow": {
     "slide_type": "slide"
    }
   },
   "source": [
    "# A simple example: weighted sum of two vectors\n",
    "\n",
    "Suppose we code a function `weighted_sum` (see code below) that computes the weighted sum of two vectors.\n",
    "\n",
    "Symbolically, given two vectors $X, Y$ and scalars $a, b$, we want to compute $Z$ as:\n",
    "$$\n",
    "    Z := aX + bY\n",
    "$$"
   ]
  },
  {
   "cell_type": "markdown",
   "metadata": {},
   "source": [
    "## Unit test for `weighted_sum`\n",
    "\n",
    "Because the behaviour of that function is fairly simple, we can write a unit test for it right away."
   ]
  },
  {
   "cell_type": "code",
   "execution_count": 1,
   "metadata": {
    "collapsed": true,
    "slideshow": {
     "slide_type": "slide"
    }
   },
   "outputs": [],
   "source": [
    "using LinearAlgebra\n",
    "using Test"
   ]
  },
  {
   "cell_type": "code",
   "execution_count": 2,
   "metadata": {},
   "outputs": [
    {
     "data": {
      "text/plain": [
       "test_ws"
      ]
     },
     "execution_count": 2,
     "metadata": {},
     "output_type": "execute_result"
    }
   ],
   "source": [
    "\"\"\"\n",
    "    test_ws()\n",
    "\n",
    "Perform a simple test of the `weighted_sum` function.\n",
    "\"\"\"\n",
    "function test_ws()\n",
    "    a = 1.0\n",
    "    b = 2.0\n",
    "    X = [1.0, 1.0]\n",
    "    Y = [4.0, 5.0]\n",
    "\n",
    "    # Run the function on that test example\n",
    "    Z = weighted_sum(a, X, b, Y)\n",
    "\n",
    "    # Check that Z takes the right values\n",
    "    @test Z == [9.0, 11.0]\n",
    "end"
   ]
  },
  {
   "cell_type": "markdown",
   "metadata": {},
   "source": [
    "If we run the test now, it will raise an error since the function `weighted_sum` has not been defined yet."
   ]
  },
  {
   "cell_type": "code",
   "execution_count": 3,
   "metadata": {},
   "outputs": [
    {
     "ename": "UndefVarError",
     "evalue": "UndefVarError: weighted_sum not defined",
     "output_type": "error",
     "traceback": [
      "UndefVarError: weighted_sum not defined",
      "",
      "Stacktrace:",
      " [1] test_ws() at ./In[2]:13",
      " [2] top-level scope at In[3]:1"
     ]
    }
   ],
   "source": [
    "# At this point, this should raise an error\n",
    "test_ws()"
   ]
  },
  {
   "cell_type": "markdown",
   "metadata": {},
   "source": [
    "## A first implementation\n",
    "\n",
    "Let's begin by writing a simple implementation of `weighted_sum`.\n",
    "\n",
    "Note that the unit test above not only verifies a certain behaviour, it also defines a given syntax for calling the function: the first argument is $a$, the second argument is $X$, etc...\n",
    "\n",
    "When implementing `weighted_sum`, we have to follow this syntax, otherwise the above test might fail."
   ]
  },
  {
   "cell_type": "code",
   "execution_count": 4,
   "metadata": {},
   "outputs": [
    {
     "data": {
      "text/plain": [
       "weighted_sum"
      ]
     },
     "execution_count": 4,
     "metadata": {},
     "output_type": "execute_result"
    }
   ],
   "source": [
    "\"\"\"\n",
    "    weighted_sum(a, X, b, Y)\n",
    "\n",
    "Compute the weighted sum `a*X + b*Y` and return the result.\n",
    "\"\"\"\n",
    "function weighted_sum(a::Float64, X::Vector{Float64}, b::Float64, Y::Vector{Float64})\n",
    "    \n",
    "    # Sanity check (ensure both vectors have same length)\n",
    "    n = length(X)\n",
    "    n == length(Y) || throw(DimensionMismatch(\n",
    "        \"X has size $n but Y has size $(length(Y))\"\n",
    "    ))\n",
    "    \n",
    "    # Creates a zero-valued vector of length `n`\n",
    "    # Z will hold the result\n",
    "    Z = zeros(Float64, n)  \n",
    "    \n",
    "    # Compute weighted sum\n",
    "    for i in 1:n\n",
    "        Z[i] = a * X[i] + b * Y[i]\n",
    "    end\n",
    "    \n",
    "    return Z\n",
    "end"
   ]
  },
  {
   "cell_type": "code",
   "execution_count": 5,
   "metadata": {},
   "outputs": [
    {
     "data": {
      "text/plain": [
       "\u001b[32m\u001b[1mTest Passed\u001b[22m\u001b[39m"
      ]
     },
     "execution_count": 5,
     "metadata": {},
     "output_type": "execute_result"
    }
   ],
   "source": [
    "# Execute the test\n",
    "test_ws()"
   ]
  },
  {
   "cell_type": "markdown",
   "metadata": {},
   "source": [
    "## Modifying the source code\n",
    "\n",
    "Later in the project, we notice that if $a=1$, then there is no need to compute the product $a\\times X_{i}$, since this simply equals $X_{i}$. Let's modify `weighted_sum` accordingly."
   ]
  },
  {
   "cell_type": "code",
   "execution_count": 6,
   "metadata": {},
   "outputs": [
    {
     "data": {
      "text/plain": [
       "weighted_sum"
      ]
     },
     "execution_count": 6,
     "metadata": {},
     "output_type": "execute_result"
    }
   ],
   "source": [
    "\"\"\"\n",
    "    weighted_sum!(a, X, b, Y)\n",
    "\n",
    "Overwrite `X` with `a*X + b*Y`. \n",
    "\"\"\"\n",
    "function weighted_sum(a::Float64, X::Vector{Float64}, b::Float64, Y::Vector{Float64})\n",
    "    \n",
    "    # Sanity check\n",
    "    n = length(X)\n",
    "    n == length(Y) || throw(DimensionMismatch(\n",
    "        \"X has size $n but Y has size $(length(Y))\"\n",
    "    ))\n",
    "    \n",
    "    Z = zeros(Float64, n)\n",
    "    \n",
    "    # Compute weighted sum\n",
    "    if a == 1.0\n",
    "        for i in 1:n\n",
    "            Z[i] = X[i] - b * Y[i]\n",
    "        end\n",
    "        \n",
    "    else\n",
    "        for i in 1:n\n",
    "            Z[i] = a * X[i] + b * Y[i]\n",
    "        end\n",
    "    end\n",
    "    \n",
    "    return Z\n",
    "end"
   ]
  },
  {
   "cell_type": "markdown",
   "metadata": {},
   "source": [
    "Notice the (intentional) mistake on line `19`:\n",
    "```julia\n",
    "    Z[i] = X[i] - b * Y[i]  # /!\\ should have been X[i] + b * Y[i] /!\\\n",
    "```\n",
    "Although this is clearly a bug, it will not raise an error at runtime: the function will run smoothly, the result will simply be wrong.\n",
    "\n",
    "Also, note that this bug arises only when $a=1$. The default loop has no error."
   ]
  },
  {
   "cell_type": "code",
   "execution_count": 7,
   "metadata": {},
   "outputs": [
    {
     "data": {
      "text/plain": [
       "2-element Array{Float64,1}:\n",
       " -1.0\n",
       " -1.0"
      ]
     },
     "execution_count": 7,
     "metadata": {},
     "output_type": "execute_result"
    }
   ],
   "source": [
    "# Although there is an error in the code, the function still runs smoothly\n",
    "# However, it returns a wrong result\n",
    "Z = weighted_sum(1.0, [1.0, 1.0], 2.0, [1.0, 1.0])"
   ]
  },
  {
   "cell_type": "code",
   "execution_count": 8,
   "metadata": {},
   "outputs": [
    {
     "name": "stdout",
     "output_type": "stream",
     "text": [
      "\u001b[91m\u001b[1mTest Failed\u001b[22m\u001b[39m at \u001b[39m\u001b[1mIn[2]:16\u001b[22m\n",
      "  Expression: Z == [9.0, 11.0]\n",
      "   Evaluated: [-7.0, -9.0] == [9.0, 11.0]\n"
     ]
    },
    {
     "ename": "Test.FallbackTestSetException",
     "evalue": "There was an error during testing",
     "output_type": "error",
     "traceback": [
      "There was an error during testing",
      "",
      "Stacktrace:",
      " [1] record(::Test.FallbackTestSet, ::Test.Fail) at /buildworker/worker/package_linux64/build/usr/share/julia/stdlib/v1.0/Test/src/Test.jl:707",
      " [2] do_test(::Test.Returned, ::Expr) at /buildworker/worker/package_linux64/build/usr/share/julia/stdlib/v1.0/Test/src/Test.jl:496",
      " [3] test_ws() at ./In[2]:16",
      " [4] top-level scope at In[8]:1"
     ]
    }
   ],
   "source": [
    "# However, this time the test will fail\n",
    "test_ws()"
   ]
  }
 ],
 "metadata": {
  "kernelspec": {
   "display_name": "Julia 1.0.1",
   "language": "julia",
   "name": "julia-1.0"
  },
  "language_info": {
   "file_extension": ".jl",
   "mimetype": "application/julia",
   "name": "julia",
   "version": "1.0.1"
  }
 },
 "nbformat": 4,
 "nbformat_minor": 2
}
