{
 "cells": [
  {
   "cell_type": "code",
   "execution_count": 1,
   "metadata": {
    "collapsed": true,
    "slideshow": {
     "slide_type": "slide"
    }
   },
   "outputs": [],
   "source": [
    "using LinearAlgebra\n",
    "using Test"
   ]
  },
  {
   "cell_type": "markdown",
   "metadata": {
    "slideshow": {
     "slide_type": "slide"
    }
   },
   "source": [
    "# Source code"
   ]
  },
  {
   "cell_type": "code",
   "execution_count": 2,
   "metadata": {},
   "outputs": [
    {
     "data": {
      "text/plain": [
       "weighted_sum!"
      ]
     },
     "execution_count": 2,
     "metadata": {},
     "output_type": "execute_result"
    }
   ],
   "source": [
    "\"\"\"\n",
    "    weighted_sum!(a, X, b, Y)\n",
    "\n",
    "Overwrite `X` with `a*X + b*Y`.\n",
    "\"\"\"\n",
    "function weighted_sum!(a, X::Vector, b, Y::Vector)\n",
    "    \n",
    "    # Sanity check\n",
    "    n = length(X)\n",
    "    n == length(Y) || throw(DimensionMismatch(\n",
    "        \"X has size $n but Y has size $(length(Y))\"\n",
    "    ))\n",
    "    \n",
    "    # Compute weighted sum\n",
    "    for i in 1:n\n",
    "        X[i] = a * X[i] + b * Y[i]\n",
    "    end\n",
    "    \n",
    "    return X\n",
    "end"
   ]
  },
  {
   "cell_type": "markdown",
   "metadata": {},
   "source": [
    "# Unit tests"
   ]
  },
  {
   "cell_type": "code",
   "execution_count": 3,
   "metadata": {},
   "outputs": [
    {
     "data": {
      "text/plain": [
       "test_ws"
      ]
     },
     "execution_count": 3,
     "metadata": {},
     "output_type": "execute_result"
    }
   ],
   "source": [
    "\"\"\"\n",
    "    test_ws()\n",
    "\n",
    "Perform a simple test of the `weighted_sum` function\n",
    "\"\"\"\n",
    "function test_ws()\n",
    "    a = 1.0\n",
    "    b = 2.0\n",
    "    X = [1.0, 1.0]\n",
    "    Y = [4.0, 5.0]\n",
    "\n",
    "    # Run the function on that test example\n",
    "    weighted_sum!(a, X, b, Y)\n",
    "\n",
    "    # Check that X was updated correctly\n",
    "    @test X == [9.0, 11.0]\n",
    "end"
   ]
  },
  {
   "cell_type": "code",
   "execution_count": 4,
   "metadata": {},
   "outputs": [
    {
     "data": {
      "text/plain": [
       "\u001b[32m\u001b[1mTest Passed\u001b[22m\u001b[39m"
      ]
     },
     "execution_count": 4,
     "metadata": {},
     "output_type": "execute_result"
    }
   ],
   "source": [
    "# Execute the test\n",
    "test_ws()"
   ]
  },
  {
   "cell_type": "markdown",
   "metadata": {},
   "source": [
    "# Later in the project\n",
    "\n",
    "Notice that if $a=1$, then there is no need to compute the product `a*X[i]`, which would save some computations.\n",
    "\n",
    "Let's modify `weighted_sum` accordingly. Notice the (intentional) mistake on line `17`."
   ]
  },
  {
   "cell_type": "code",
   "execution_count": 5,
   "metadata": {},
   "outputs": [
    {
     "data": {
      "text/plain": [
       "weighted_sum!"
      ]
     },
     "execution_count": 5,
     "metadata": {},
     "output_type": "execute_result"
    }
   ],
   "source": [
    "\"\"\"\n",
    "    weighted_sum!(a, X, b, Y)\n",
    "\n",
    "Overwrite `X` with `a*X + b*Y`. \n",
    "\"\"\"\n",
    "function weighted_sum!(a, X::Vector, b, Y::Vector)\n",
    "    \n",
    "    # Sanity check\n",
    "    n = length(X)\n",
    "    n == length(Y) || throw(DimensionMismatch(\n",
    "        \"X has size $n but Y has size $(length(Y))\"\n",
    "    ))\n",
    "    \n",
    "    # Compute weighted sum\n",
    "    if a == 1.0\n",
    "        for i in 1:n\n",
    "            X[i] = X[i] - b * Y[i]  # /!\\ should have been X[i] + b * Y[i] /!\\\n",
    "        end\n",
    "        \n",
    "    else\n",
    "        for i in 1:n\n",
    "            X[i] = a * X[i] + b * Y[i]\n",
    "        end\n",
    "    end\n",
    "    \n",
    "    return X\n",
    "end"
   ]
  },
  {
   "cell_type": "code",
   "execution_count": 6,
   "metadata": {},
   "outputs": [
    {
     "name": "stdout",
     "output_type": "stream",
     "text": [
      "\u001b[91m\u001b[1mTest Failed\u001b[22m\u001b[39m at \u001b[39m\u001b[1mIn[3]:16\u001b[22m\n",
      "  Expression: X == [9.0, 11.0]\n",
      "   Evaluated: [-7.0, -9.0] == [9.0, 11.0]\n"
     ]
    },
    {
     "ename": "Test.FallbackTestSetException",
     "evalue": "There was an error during testing",
     "output_type": "error",
     "traceback": [
      "There was an error during testing",
      "",
      "Stacktrace:",
      " [1] record(::Test.FallbackTestSet, ::Test.Fail) at /buildworker/worker/package_linux64/build/usr/share/julia/stdlib/v1.0/Test/src/Test.jl:707",
      " [2] do_test(::Test.Returned, ::Expr) at /buildworker/worker/package_linux64/build/usr/share/julia/stdlib/v1.0/Test/src/Test.jl:496",
      " [3] test_ws() at ./In[3]:16",
      " [4] top-level scope at In[6]:1"
     ]
    }
   ],
   "source": [
    "# This time the test will fail\n",
    "test_ws()"
   ]
  }
 ],
 "metadata": {
  "kernelspec": {
   "display_name": "Julia 1.0.1",
   "language": "julia",
   "name": "julia-1.0"
  },
  "language_info": {
   "file_extension": ".jl",
   "mimetype": "application/julia",
   "name": "julia",
   "version": "1.0.1"
  }
 },
 "nbformat": 4,
 "nbformat_minor": 2
}
